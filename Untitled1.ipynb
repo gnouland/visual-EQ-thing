{
 "cells": [
  {
   "cell_type": "code",
   "execution_count": 22,
   "metadata": {},
   "outputs": [],
   "source": [
    "import pyaudio\n",
    "import os\n",
    "import struct\n",
    "import time\n",
    "import numpy as np\n",
    "import matplotlib.pyplot as plt\n",
    "from scipy.fftpack import fft\n",
    "from tkinter import TclError\n",
    "\n",
    "# display in separate window\n",
    "%matplotlib tk\n",
    "\n",
    "CHUNK = 1024 * 2                 # samples per frame (2048)\n",
    "FORMAT = pyaudio.paInt16         # audio format (16 bit int, 0 to 65535 or -32768 to 32768)\n",
    "CHANNELS = 1                     # single channel for microphone\n",
    "RATE = 44100                     # samples per second"
   ]
  },
  {
   "cell_type": "code",
   "execution_count": 23,
   "metadata": {},
   "outputs": [
    {
     "name": "stdout",
     "output_type": "stream",
     "text": [
      "stream stopped\n",
      "average frame rate = 9 FPS\n"
     ]
    }
   ],
   "source": [
    "# matplotlib figure & axes\n",
    "fig, (ax, ax2) = plt.subplots(2, figsize = (10, 5))\n",
    "\n",
    "# pyaudio class\n",
    "p = pyaudio.PyAudio()\n",
    "\n",
    "# stream object - get mic data\n",
    "stream = p.open(\n",
    "    format = FORMAT,\n",
    "    channels = CHANNELS,\n",
    "    rate = RATE,\n",
    "    input = True,\n",
    "    input_device_index = 2, # choose 'stereo mix' as input device (internal audio)\n",
    "    output = True,\n",
    "    frames_per_buffer = CHUNK\n",
    ")\n",
    "\n",
    "# plot variable \n",
    "x = np.arange(0, 2 * CHUNK, 2)          # array w/ values from 0 to 4096 with step size 2\n",
    "x_fft = np.linspace(0, RATE, CHUNK)     # array w/ 2048 values from 0 to 44100\n",
    "\n",
    "line, = ax.plot(x, np.random.rand(CHUNK), '-', lw = 2)               # set data line settings & plot random data (2048)\n",
    "line_fft, = ax2.semilogx(x_fft, np.random.rand(CHUNK), '-', lw = 2)  # set fft line settings & plot random data (2048)\n",
    "\n",
    "ax.set_ylim(-32768, 32768)        # data range due to 16 bit int\n",
    "ax.set_xlim(0, 2 * CHUNK)         # display values from 0 to 4096\n",
    "\n",
    "ax2.set_xlim(20, RATE / 2)        # fft frequency range from 20Hz to 22.05kHz\n",
    "\n",
    "plt.show(block = False)\n",
    "\n",
    "frame_count = 0\n",
    "start_time = time.time()\n",
    "\n",
    "while True:\n",
    "    data = stream.read(CHUNK)                             # read 4096 points of audio input data (bytes)\n",
    "    data_int = struct.unpack(str(CHUNK) + 'h', data)      # convert bytes to int (data_int is a 2048 tuple of ints)\n",
    "    line.set_ydata(data_int)                              # set converted data to y values of line\n",
    "    \n",
    "    #data_int = struct.unpack(str(2 * CHUNK) + 'B', data)\n",
    "    #data_np = np.array(data_int, dtype = 'b')[::2] + 128\n",
    "    #line.set_ydata(data_np)\n",
    "    #y_fft = fft(data_int)\n",
    "    #line_fft.set_ydata(np.abs(y_fft[0:CHUNK]) * 2 / (256 * CHUNK))\n",
    "    \n",
    "    y_fft = fft(data_int)                                                     # do fft of audio int values\n",
    "    line_fft.set_ydata(np.abs(y_fft[0:CHUNK]) * 2 / ((32768 / 2) * CHUNK))    # set fft data to y values of line_fft\n",
    "    \n",
    "    try:\n",
    "        fig.canvas.draw()\n",
    "        fig.canvas.flush_events()\n",
    "        frame_count += 1\n",
    "        \n",
    "    except TclError:\n",
    "        frame_rate = frame_count / (time.time() - start_time)\n",
    "        print('stream stopped')\n",
    "        print('average frame rate = {:.0f} FPS'.format(frame_rate))\n",
    "        break"
   ]
  },
  {
   "cell_type": "code",
   "execution_count": 19,
   "metadata": {},
   "outputs": [
    {
     "data": {
      "text/plain": [
       "5"
      ]
     },
     "execution_count": 19,
     "metadata": {},
     "output_type": "execute_result"
    }
   ],
   "source": [
    "len(str(CHUNK) + 'h')"
   ]
  },
  {
   "cell_type": "code",
   "execution_count": 2,
   "metadata": {},
   "outputs": [
    {
     "name": "stdout",
     "output_type": "stream",
     "text": [
      "Input Device id  0  -  Microsoft Sound Mapper - Input\n",
      "Input Device id  1  -  Microphone Array (Realtek High \n",
      "Input Device id  2  -  Stereo Mix (Realtek High Defini\n"
     ]
    }
   ],
   "source": [
    "# get audio input device info\n",
    "import pyaudio\n",
    "p = pyaudio.PyAudio()\n",
    "info = p.get_host_api_info_by_index(0)\n",
    "numdevices = info.get('deviceCount')\n",
    "for i in range(0, numdevices):\n",
    "        if (p.get_device_info_by_host_api_device_index(0, i).get('maxInputChannels')) > 0:\n",
    "            print (\"Input Device id \", i, \" - \", p.get_device_info_by_host_api_device_index(0, i).get('name'))"
   ]
  }
 ],
 "metadata": {
  "kernelspec": {
   "display_name": "Python 3",
   "language": "python",
   "name": "python3"
  },
  "language_info": {
   "codemirror_mode": {
    "name": "ipython",
    "version": 3
   },
   "file_extension": ".py",
   "mimetype": "text/x-python",
   "name": "python",
   "nbconvert_exporter": "python",
   "pygments_lexer": "ipython3",
   "version": "3.7.6"
  }
 },
 "nbformat": 4,
 "nbformat_minor": 2
}
